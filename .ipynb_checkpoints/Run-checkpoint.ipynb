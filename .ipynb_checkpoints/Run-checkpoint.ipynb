{
 "cells": [
  {
   "cell_type": "code",
   "execution_count": 3,
   "metadata": {},
   "outputs": [
    {
     "ename": "ImportError",
     "evalue": "No module named 'sklearn.__check_build._check_build'\n___________________________________________________________________________\nContents of C:\\Users\\User\\anaconda3\\envs\\kw\\lib\\site-packages\\sklearn\\__check_build:\nsetup.py                  _check_build.cp37-win_amd64.pyd__init__.py\n__pycache__\n___________________________________________________________________________\nIt seems that scikit-learn has not been built correctly.\n\nIf you have installed scikit-learn from source, please do not forget\nto build the package before using it: run `python setup.py install` or\n`make` in the source directory.\n\nIf you have used an installer, please check that it is suited for your\nPython version, your operating system and your platform.",
     "output_type": "error",
     "traceback": [
      "\u001b[1;31m---------------------------------------------------------------------------\u001b[0m",
      "\u001b[1;31mModuleNotFoundError\u001b[0m                       Traceback (most recent call last)",
      "\u001b[1;32m~\\anaconda3\\envs\\kw\\lib\\site-packages\\sklearn\\__check_build\\__init__.py\u001b[0m in \u001b[0;36m<module>\u001b[1;34m\u001b[0m\n\u001b[0;32m     47\u001b[0m \u001b[1;32mtry\u001b[0m\u001b[1;33m:\u001b[0m\u001b[1;33m\u001b[0m\u001b[1;33m\u001b[0m\u001b[0m\n\u001b[1;32m---> 48\u001b[1;33m     \u001b[1;32mfrom\u001b[0m \u001b[1;33m.\u001b[0m\u001b[0m_check_build\u001b[0m \u001b[1;32mimport\u001b[0m \u001b[0mcheck_build\u001b[0m  \u001b[1;31m# noqa\u001b[0m\u001b[1;33m\u001b[0m\u001b[1;33m\u001b[0m\u001b[0m\n\u001b[0m\u001b[0;32m     49\u001b[0m \u001b[1;32mexcept\u001b[0m \u001b[0mImportError\u001b[0m \u001b[1;32mas\u001b[0m \u001b[0me\u001b[0m\u001b[1;33m:\u001b[0m\u001b[1;33m\u001b[0m\u001b[1;33m\u001b[0m\u001b[0m\n",
      "\u001b[1;31mModuleNotFoundError\u001b[0m: No module named 'sklearn.__check_build._check_build'",
      "\nDuring handling of the above exception, another exception occurred:\n",
      "\u001b[1;31mImportError\u001b[0m                               Traceback (most recent call last)",
      "\u001b[1;32m~\\AppData\\Local\\Temp/ipykernel_27304/1858284915.py\u001b[0m in \u001b[0;36m<module>\u001b[1;34m\u001b[0m\n\u001b[0;32m      1\u001b[0m \u001b[1;32mimport\u001b[0m \u001b[0mpandas\u001b[0m \u001b[1;32mas\u001b[0m \u001b[0mpd\u001b[0m\u001b[1;33m\u001b[0m\u001b[1;33m\u001b[0m\u001b[0m\n\u001b[0;32m      2\u001b[0m \u001b[1;32mimport\u001b[0m \u001b[0mos\u001b[0m\u001b[1;33m\u001b[0m\u001b[1;33m\u001b[0m\u001b[0m\n\u001b[1;32m----> 3\u001b[1;33m \u001b[1;32mfrom\u001b[0m \u001b[0msklearn\u001b[0m\u001b[1;33m.\u001b[0m\u001b[0mmodel_selection\u001b[0m \u001b[1;32mimport\u001b[0m \u001b[0mtrain_test_split\u001b[0m\u001b[1;33m\u001b[0m\u001b[1;33m\u001b[0m\u001b[0m\n\u001b[0m\u001b[0;32m      4\u001b[0m \u001b[1;32mimport\u001b[0m \u001b[0mnumpy\u001b[0m \u001b[1;32mas\u001b[0m \u001b[0mnp\u001b[0m\u001b[1;33m\u001b[0m\u001b[1;33m\u001b[0m\u001b[0m\n\u001b[0;32m      5\u001b[0m \u001b[0mget_ipython\u001b[0m\u001b[1;33m(\u001b[0m\u001b[1;33m)\u001b[0m\u001b[1;33m.\u001b[0m\u001b[0mrun_line_magic\u001b[0m\u001b[1;33m(\u001b[0m\u001b[1;34m'matplotlib'\u001b[0m\u001b[1;33m,\u001b[0m \u001b[1;34m'inline'\u001b[0m\u001b[1;33m)\u001b[0m\u001b[1;33m\u001b[0m\u001b[1;33m\u001b[0m\u001b[0m\n",
      "\u001b[1;32m~\\anaconda3\\envs\\kw\\lib\\site-packages\\sklearn\\__init__.py\u001b[0m in \u001b[0;36m<module>\u001b[1;34m\u001b[0m\n\u001b[0;32m     79\u001b[0m     \u001b[1;31m# it and importing it first would fail if the OpenMP dll cannot be found.\u001b[0m\u001b[1;33m\u001b[0m\u001b[1;33m\u001b[0m\u001b[1;33m\u001b[0m\u001b[0m\n\u001b[0;32m     80\u001b[0m     \u001b[1;32mfrom\u001b[0m \u001b[1;33m.\u001b[0m \u001b[1;32mimport\u001b[0m \u001b[0m_distributor_init\u001b[0m  \u001b[1;31m# noqa: F401\u001b[0m\u001b[1;33m\u001b[0m\u001b[1;33m\u001b[0m\u001b[0m\n\u001b[1;32m---> 81\u001b[1;33m     \u001b[1;32mfrom\u001b[0m \u001b[1;33m.\u001b[0m \u001b[1;32mimport\u001b[0m \u001b[0m__check_build\u001b[0m  \u001b[1;31m# noqa: F401\u001b[0m\u001b[1;33m\u001b[0m\u001b[1;33m\u001b[0m\u001b[0m\n\u001b[0m\u001b[0;32m     82\u001b[0m     \u001b[1;32mfrom\u001b[0m \u001b[1;33m.\u001b[0m\u001b[0mbase\u001b[0m \u001b[1;32mimport\u001b[0m \u001b[0mclone\u001b[0m\u001b[1;33m\u001b[0m\u001b[1;33m\u001b[0m\u001b[0m\n\u001b[0;32m     83\u001b[0m     \u001b[1;32mfrom\u001b[0m \u001b[1;33m.\u001b[0m\u001b[0mutils\u001b[0m\u001b[1;33m.\u001b[0m\u001b[0m_show_versions\u001b[0m \u001b[1;32mimport\u001b[0m \u001b[0mshow_versions\u001b[0m\u001b[1;33m\u001b[0m\u001b[1;33m\u001b[0m\u001b[0m\n",
      "\u001b[1;32m~\\anaconda3\\envs\\kw\\lib\\site-packages\\sklearn\\__check_build\\__init__.py\u001b[0m in \u001b[0;36m<module>\u001b[1;34m\u001b[0m\n\u001b[0;32m     48\u001b[0m     \u001b[1;32mfrom\u001b[0m \u001b[1;33m.\u001b[0m\u001b[0m_check_build\u001b[0m \u001b[1;32mimport\u001b[0m \u001b[0mcheck_build\u001b[0m  \u001b[1;31m# noqa\u001b[0m\u001b[1;33m\u001b[0m\u001b[1;33m\u001b[0m\u001b[0m\n\u001b[0;32m     49\u001b[0m \u001b[1;32mexcept\u001b[0m \u001b[0mImportError\u001b[0m \u001b[1;32mas\u001b[0m \u001b[0me\u001b[0m\u001b[1;33m:\u001b[0m\u001b[1;33m\u001b[0m\u001b[1;33m\u001b[0m\u001b[0m\n\u001b[1;32m---> 50\u001b[1;33m     \u001b[0mraise_build_error\u001b[0m\u001b[1;33m(\u001b[0m\u001b[0me\u001b[0m\u001b[1;33m)\u001b[0m\u001b[1;33m\u001b[0m\u001b[1;33m\u001b[0m\u001b[0m\n\u001b[0m",
      "\u001b[1;32m~\\anaconda3\\envs\\kw\\lib\\site-packages\\sklearn\\__check_build\\__init__.py\u001b[0m in \u001b[0;36mraise_build_error\u001b[1;34m(e)\u001b[0m\n\u001b[0;32m     41\u001b[0m \u001b[0;31m`\u001b[0m\u001b[0mmake\u001b[0m\u001b[0;31m`\u001b[0m \u001b[1;32min\u001b[0m \u001b[0mthe\u001b[0m \u001b[0msource\u001b[0m \u001b[0mdirectory\u001b[0m\u001b[1;33m.\u001b[0m\u001b[1;33m\u001b[0m\u001b[1;33m\u001b[0m\u001b[0m\n\u001b[0;32m     42\u001b[0m %s\"\"\"\n\u001b[1;32m---> 43\u001b[1;33m         \u001b[1;33m%\u001b[0m \u001b[1;33m(\u001b[0m\u001b[0me\u001b[0m\u001b[1;33m,\u001b[0m \u001b[0mlocal_dir\u001b[0m\u001b[1;33m,\u001b[0m \u001b[1;34m\"\"\u001b[0m\u001b[1;33m.\u001b[0m\u001b[0mjoin\u001b[0m\u001b[1;33m(\u001b[0m\u001b[0mdir_content\u001b[0m\u001b[1;33m)\u001b[0m\u001b[1;33m.\u001b[0m\u001b[0mstrip\u001b[0m\u001b[1;33m(\u001b[0m\u001b[1;33m)\u001b[0m\u001b[1;33m,\u001b[0m \u001b[0mmsg\u001b[0m\u001b[1;33m)\u001b[0m\u001b[1;33m\u001b[0m\u001b[1;33m\u001b[0m\u001b[0m\n\u001b[0m\u001b[0;32m     44\u001b[0m     )\n\u001b[0;32m     45\u001b[0m \u001b[1;33m\u001b[0m\u001b[0m\n",
      "\u001b[1;31mImportError\u001b[0m: No module named 'sklearn.__check_build._check_build'\n___________________________________________________________________________\nContents of C:\\Users\\User\\anaconda3\\envs\\kw\\lib\\site-packages\\sklearn\\__check_build:\nsetup.py                  _check_build.cp37-win_amd64.pyd__init__.py\n__pycache__\n___________________________________________________________________________\nIt seems that scikit-learn has not been built correctly.\n\nIf you have installed scikit-learn from source, please do not forget\nto build the package before using it: run `python setup.py install` or\n`make` in the source directory.\n\nIf you have used an installer, please check that it is suited for your\nPython version, your operating system and your platform."
     ]
    }
   ],
   "source": [
    "import pandas as pd\n",
    "import os\n",
    "from sklearn.model_selection import train_test_split\n",
    "import numpy as np\n",
    "%matplotlib inline\n",
    "import re\n",
    "from konlpy.tag import Okt\n",
    "from tensorflow.keras.preprocessing.text import Tokenizer\n",
    "from tensorflow.keras.preprocessing.sequence import pad_sequences\n",
    "import matplotlib.pyplot as plt\n",
    "from pyhanspell.hanspell import spell_checker"
   ]
  },
  {
   "cell_type": "code",
   "execution_count": 2,
   "metadata": {},
   "outputs": [],
   "source": [
    "stock_list = os.listdir('KOSPI_largecap/Classificated')\n",
    "root = 'KOSPI_largecap/Classificated'\n",
    "stopwords = ['의','가','이','은','들','는','좀','걍','과','도','를','으로','자','에','와','한','하다', '이다', '에서']"
   ]
  },
  {
   "cell_type": "code",
   "execution_count": 3,
   "metadata": {},
   "outputs": [],
   "source": [
    "def Data_loader(x_stock_list, x_root):\n",
    "    df = pd.read_excel(x_root + '/' + x_stock_list[0])\n",
    "    df = df[df['rating'] != 3]\n",
    "    \n",
    "    for i in x_stock_list[1:]:\n",
    "        df2 = pd.read_excel(x_root + '/' + i)\n",
    "        df2 = df2[df2['rating'] != 3]\n",
    "        df = df.append(df2)\n",
    "    \n",
    "    df['comment'] = df['title'] + ' ' +df['content']\n",
    "    df = df[['rating', 'comment']]\n",
    "    df = df.reset_index(drop = True)\n",
    "    \n",
    "    for i in df.index:\n",
    "        if df.loc[i, 'rating'] == 1:\n",
    "            df.loc[i, 'rating'] = 0\n",
    "        elif df.loc[i, 'rating'] == 2:\n",
    "            df.loc[i, 'rating'] = 1\n",
    "            \n",
    "    df = df.sample(frac=1).reset_index(drop = True)\n",
    "    \n",
    "    return df\n",
    "\n",
    "\n",
    "def Pre_processing(x_df, x_stopwords):\n",
    "    # 중복 행 제거\n",
    "    x_df.drop_duplicates(['comment'], inplace = True)\n",
    "    x_df = x_df.reset_index(drop = True)\n",
    "    \n",
    "    # 정규표현식\n",
    "    x_df['comment'] = x_df['comment'].str.replace(\"[^ㄱ-ㅎ ㅏ-ㅣ 가-힣 ]\", \"\")\n",
    "    \n",
    "    # 문법\n",
    "    for i in range(len(x_df)):\n",
    "        sent = str(x_df.loc[i, 'comment'])\n",
    "        sent = spell_checker.check(sent).checked\n",
    "        x_df.loc[i, 'comment'] = sent\n",
    "    \n",
    "    # rating이 0,1이 아니면 제거\n",
    "    for i in range(len(x_df)):\n",
    "        if not(x_df['rating'][i] == 0 or x_df['rating'][i] == 1):\n",
    "            x_df = x_df.drop(i)\n",
    "            \n",
    "    # 토큰화\n",
    "    okt = Okt()\n",
    "    tokenized = []\n",
    "\n",
    "    for i in x_df['comment']:\n",
    "        temp_x = []\n",
    "        temp_x = okt.morphs(i, stem = False)\n",
    "        temp_x = [word for word in temp_x if not word in x_stopwords] \n",
    "        tokenized.append(temp_x)\n",
    "        \n",
    "    # 한 음절 제거\n",
    "    #new_tokenized = []\n",
    "    #for i in tokenized:\n",
    "        #new = [item for item in i if len(item) != 1]\n",
    "        #new_tokenized.append(new)\n",
    "\n",
    "    #tokenized = new_tokenized\n",
    "    \n",
    "    return x_df, tokenized"
   ]
  },
  {
   "cell_type": "code",
   "execution_count": 7,
   "metadata": {},
   "outputs": [],
   "source": [
    "df = Data_loader(stock_list, root)\n",
    "df_new, tokenized = Pre_processing(df, stopwords)\n",
    "\n",
    "# 데이터 저장\n",
    "data = df_new\n",
    "token = tokenized"
   ]
  },
  {
   "cell_type": "code",
   "execution_count": 8,
   "metadata": {},
   "outputs": [],
   "source": [
    "tokenizer = Tokenizer()\n",
    "tokenizer.fit_on_texts(tokenized)"
   ]
  },
  {
   "cell_type": "code",
   "execution_count": 9,
   "metadata": {},
   "outputs": [],
   "source": [
    "#tokenizer.word_index"
   ]
  },
  {
   "cell_type": "code",
   "execution_count": 10,
   "metadata": {},
   "outputs": [
    {
     "name": "stdout",
     "output_type": "stream",
     "text": [
      "단어 집합(vocabulary)의 크기 : 9486\n",
      "등장 빈도가 2번 이하인 희귀 단어의 수: 6989\n",
      "단어 집합에서 희귀 단어의 비율: 73.67699768079274\n",
      "전체 등장 빈도에서 희귀 단어 등장 빈도 비율: 20.77820422179578\n"
     ]
    }
   ],
   "source": [
    "threshold = 3 # 원래는 3이었음\n",
    "total_cnt = len(tokenizer.word_index) # 단어의 수\n",
    "rare_cnt = 0 # 등장 빈도수가 threshold보다 작은 단어의 개수를 카운트\n",
    "total_freq = 0 # 훈련 데이터의 전체 단어 빈도수 총 합\n",
    "rare_freq = 0 # 등장 빈도수가 threshold보다 작은 단어의 등장 빈도수의 총 합\n",
    "\n",
    "# 단어와 빈도수의 쌍(pair)을 key와 value로 받는다.\n",
    "for key, value in tokenizer.word_counts.items():\n",
    "    total_freq = total_freq + value\n",
    "\n",
    "    # 단어의 등장 빈도수가 threshold보다 작으면\n",
    "    if(value < threshold):\n",
    "        rare_cnt = rare_cnt + 1\n",
    "        rare_freq = rare_freq + value\n",
    "\n",
    "print('단어 집합(vocabulary)의 크기 :',total_cnt)\n",
    "print('등장 빈도가 %s번 이하인 희귀 단어의 수: %s'%(threshold - 1, rare_cnt))\n",
    "print(\"단어 집합에서 희귀 단어의 비율:\", (rare_cnt / total_cnt)*100)\n",
    "print(\"전체 등장 빈도에서 희귀 단어 등장 빈도 비율:\", (rare_freq / total_freq)*100)"
   ]
  },
  {
   "cell_type": "code",
   "execution_count": 11,
   "metadata": {},
   "outputs": [
    {
     "name": "stdout",
     "output_type": "stream",
     "text": [
      "단어 집합의 크기 : 2499\n"
     ]
    }
   ],
   "source": [
    "# 전체 단어 개수 중 빈도수 2이하인 단어 개수는 제거.\n",
    "# 0번 패딩 토큰과 1번 OOV 토큰을 고려하여 +2\n",
    "vocab_size = total_cnt - rare_cnt + 2\n",
    "print('단어 집합의 크기 :',vocab_size)"
   ]
  },
  {
   "cell_type": "code",
   "execution_count": 12,
   "metadata": {},
   "outputs": [],
   "source": [
    "tokenizer = Tokenizer(vocab_size, oov_token = 'OOV') \n",
    "tokenizer.fit_on_texts(tokenized)\n",
    "tokenized = tokenizer.texts_to_sequences(tokenized)"
   ]
  },
  {
   "cell_type": "code",
   "execution_count": 13,
   "metadata": {},
   "outputs": [],
   "source": [
    "x_train = tokenized\n",
    "y_train = df_new['rating']"
   ]
  },
  {
   "cell_type": "code",
   "execution_count": 14,
   "metadata": {},
   "outputs": [
    {
     "name": "stdout",
     "output_type": "stream",
     "text": [
      "2156\n",
      "2156\n"
     ]
    },
    {
     "name": "stderr",
     "output_type": "stream",
     "text": [
      "C:\\Users\\User\\anaconda3\\lib\\site-packages\\numpy\\core\\_asarray.py:83: VisibleDeprecationWarning: Creating an ndarray from ragged nested sequences (which is a list-or-tuple of lists-or-tuples-or ndarrays with different lengths or shapes) is deprecated. If you meant to do this, you must specify 'dtype=object' when creating the ndarray\n",
      "  return array(a, dtype, copy=False, order=order)\n"
     ]
    }
   ],
   "source": [
    "# 빈 샘플 제거\n",
    "drop_train = [index for index, sentence in enumerate(x_train) if len(sentence) < 1]\n",
    "\n",
    "x_train = np.delete(x_train, drop_train, axis=0)\n",
    "y_train = y_train.to_numpy()\n",
    "y_train = np.delete(y_train, drop_train, axis=0)\n",
    "print(len(x_train))\n",
    "print(len(y_train))"
   ]
  },
  {
   "cell_type": "code",
   "execution_count": 15,
   "metadata": {},
   "outputs": [
    {
     "name": "stdout",
     "output_type": "stream",
     "text": [
      "리뷰의 최대 길이 : 426\n",
      "리뷰의 평균 길이 : 18.369202226345084\n"
     ]
    },
    {
     "data": {
      "image/png": "[encoded data removed]",
      "text/plain": [
       "<Figure size 432x288 with 1 Axes>"
      ]
     },
     "metadata": {
      "needs_background": "light"
     },
     "output_type": "display_data"
    }
   ],
   "source": [
    "# sequences 길이 확인\n",
    "print('리뷰의 최대 길이 :',max(len(l) for l in x_train))\n",
    "print('리뷰의 평균 길이 :',sum(map(len, x_train))/len(x_train))\n",
    "plt.hist([len(s) for s in x_train], bins=50)\n",
    "plt.xlabel('length of samples')\n",
    "plt.ylabel('number of samples')\n",
    "plt.show()"
   ]
  },
  {
   "cell_type": "code",
   "execution_count": 16,
   "metadata": {},
   "outputs": [],
   "source": [
    "# max_len 이하 길이의 sample이 몇 %인가?\n",
    "def below_threshold_len(max_len, nested_list):\n",
    "  cnt = 0\n",
    "  for s in nested_list:\n",
    "    if(len(s) <= max_len):\n",
    "        cnt = cnt + 1\n",
    "  print('전체 샘플 중 길이가 %s 이하인 샘플의 비율: %s'%(max_len, (cnt / len(nested_list))*100))"
   ]
  },
  {
   "cell_type": "code",
   "execution_count": 17,
   "metadata": {},
   "outputs": [
    {
     "name": "stdout",
     "output_type": "stream",
     "text": [
      "전체 샘플 중 길이가 30 이하인 샘플의 비율: 87.05936920222635\n"
     ]
    }
   ],
   "source": [
    "max_len = 30\n",
    "below_threshold_len(max_len, x_train)"
   ]
  },
  {
   "cell_type": "code",
   "execution_count": 18,
   "metadata": {},
   "outputs": [],
   "source": [
    "# 패딩\n",
    "x_train = pad_sequences(x_train, maxlen = max_len)\n",
    "#x_test = pad_sequences(x_test, maxlen = max_len)"
   ]
  },
  {
   "cell_type": "code",
   "execution_count": null,
   "metadata": {},
   "outputs": [],
   "source": []
  },
  {
   "cell_type": "code",
   "execution_count": null,
   "metadata": {},
   "outputs": [],
   "source": []
  },
  {
   "cell_type": "markdown",
   "metadata": {},
   "source": [
    "# LSTM 학습"
   ]
  },
  {
   "cell_type": "code",
   "execution_count": 19,
   "metadata": {},
   "outputs": [],
   "source": [
    "from tensorflow.keras.layers import Embedding, Dense, LSTM\n",
    "from tensorflow.keras.models import Sequential\n",
    "from tensorflow.keras.models import load_model\n",
    "from tensorflow.keras.callbacks import EarlyStopping, ModelCheckpoint"
   ]
  },
  {
   "cell_type": "code",
   "execution_count": 20,
   "metadata": {},
   "outputs": [],
   "source": [
    "model = Sequential()\n",
    "model.add(Embedding(vocab_size, 100)) # 원래 100이었음\n",
    "model.add(LSTM(128))\n",
    "model.add(Dense(1, activation='sigmoid')) # 원래 sigmoid"
   ]
  },
  {
   "cell_type": "code",
   "execution_count": 21,
   "metadata": {},
   "outputs": [],
   "source": [
    "es = EarlyStopping(monitor='val_loss', mode='min', verbose=1, patience=4)\n",
    "mc = ModelCheckpoint('best_model.h5', monitor='val_acc', mode='max', verbose=1, save_best_only=True)"
   ]
  },
  {
   "cell_type": "code",
   "execution_count": 22,
   "metadata": {},
   "outputs": [
    {
     "name": "stdout",
     "output_type": "stream",
     "text": [
      "Epoch 1/10\n",
      "41/41 [==============================] - 4s 38ms/step - loss: 0.6924 - accuracy: 0.5457 - val_loss: 0.6508 - val_accuracy: 0.6512\n",
      "WARNING:tensorflow:Can save best model only with val_acc available, skipping.\n",
      "Epoch 2/10\n",
      "41/41 [==============================] - 1s 19ms/step - loss: 0.5649 - accuracy: 0.7395 - val_loss: 0.4983 - val_accuracy: 0.7671\n",
      "WARNING:tensorflow:Can save best model only with val_acc available, skipping.\n",
      "Epoch 3/10\n",
      "41/41 [==============================] - 1s 23ms/step - loss: 0.2717 - accuracy: 0.8962 - val_loss: 0.5088 - val_accuracy: 0.7856\n",
      "WARNING:tensorflow:Can save best model only with val_acc available, skipping.\n",
      "Epoch 4/10\n",
      "41/41 [==============================] - 1s 19ms/step - loss: 0.1440 - accuracy: 0.9671 - val_loss: 0.6237 - val_accuracy: 0.7810\n",
      "WARNING:tensorflow:Can save best model only with val_acc available, skipping.\n",
      "Epoch 5/10\n",
      "41/41 [==============================] - 1s 19ms/step - loss: 0.0732 - accuracy: 0.9823 - val_loss: 0.7264 - val_accuracy: 0.7717\n",
      "WARNING:tensorflow:Can save best model only with val_acc available, skipping.\n",
      "Epoch 6/10\n",
      "41/41 [==============================] - 1s 19ms/step - loss: 0.0307 - accuracy: 0.9950 - val_loss: 0.9877 - val_accuracy: 0.7694\n",
      "WARNING:tensorflow:Can save best model only with val_acc available, skipping.\n",
      "Epoch 00006: early stopping\n"
     ]
    }
   ],
   "source": [
    "model.compile(optimizer='adam', loss='binary_crossentropy', metrics=['accuracy'])\n",
    "history = model.fit(x_train, y_train, epochs=10, callbacks=[es, mc], batch_size=32, validation_split=0.4)\n",
    "#history = model.fit(x_train, y_train, epochs=10, batch_size=1, validation_split=0.3)"
   ]
  },
  {
   "cell_type": "code",
   "execution_count": 23,
   "metadata": {},
   "outputs": [
    {
     "data": {
      "image/png": "[encoded data removed]",
      "text/plain": [
       "<Figure size 432x288 with 1 Axes>"
      ]
     },
     "metadata": {
      "needs_background": "light"
     },
     "output_type": "display_data"
    }
   ],
   "source": [
    "epochs = range(1, len(history.history['accuracy']) + 1)\n",
    "plt.plot(epochs, history.history['loss'])\n",
    "plt.plot(epochs, history.history['val_loss'])\n",
    "plt.title('model loss')\n",
    "plt.ylabel('loss')\n",
    "plt.xlabel('epoch')\n",
    "plt.legend(['train', 'test'], loc='upper left')\n",
    "plt.show()"
   ]
  },
  {
   "cell_type": "code",
   "execution_count": 24,
   "metadata": {},
   "outputs": [],
   "source": [
    "loaded_model = load_model('best_model.h5')\n",
    "#print(\"\\n 테스트 정확도: %.4f\" % (loaded_model.evaluate(x_test, y_test)[1]))"
   ]
  },
  {
   "cell_type": "code",
   "execution_count": 25,
   "metadata": {},
   "outputs": [],
   "source": [
    "def sentiment_predict(new_sentence):\n",
    "    okt = Okt()\n",
    "    new_sentence = re.compile(\"[^ㄱ-ㅎ ㅏ-ㅣ 가-힣 ]+\").sub('', new_sentence)\n",
    "    new_sentence = okt.morphs(new_sentence, stem=False) # 토큰화\n",
    "    new_sentence = [word for word in new_sentence if not word in stopwords] # 불용어 제거\n",
    "    encoded = tokenizer.texts_to_sequences([new_sentence]) # 정수 인코딩\n",
    "    pad_new = pad_sequences(encoded, maxlen = max_len) # 패딩\n",
    "    print(pad_new)\n",
    "    score = float(loaded_model.predict(pad_new)) # 예측\n",
    "    if(score > 0.5):\n",
    "        print(\"{:.2f}% 확률로 안티 댓글입니다.\\n\".format(score * 100))\n",
    "    else:\n",
    "        print(\"{:.2f}% 확률로 찬티 댓글입니다.\\n\".format((1 - score) * 100))"
   ]
  },
  {
   "cell_type": "code",
   "execution_count": 28,
   "metadata": {},
   "outputs": [
    {
     "name": "stdout",
     "output_type": "stream",
     "text": [
      "[[  0   0   0   0   0   0   0   0   0   0   0   0   0   0   0   0   0   0\n",
      "    0   0   0   0   0   6 268 126 401  44 216   1]]\n",
      "82.25% 확률로 찬티 댓글입니다.\n",
      "\n",
      "[[  0   0   0   0   0   0   0   0   0   0   0   0   0   0   0   0   0   0\n",
      "    0   0   0   0   0   0   0   9  49   6 146 441]]\n",
      "99.32% 확률로 찬티 댓글입니다.\n",
      "\n",
      "[[  0   0   0   0   0   0   0   0   0   0   0   0   0   0   0   0   0   0\n",
      "    0   0   0   0   0   0   0  31 266 493   1   1]]\n",
      "69.44% 확률로 안티 댓글입니다.\n",
      "\n",
      "[[   0    0    0    0    0    0    0    0    0    0    0    0    0    0\n",
      "     0    0    0    0    0    0    0    0    0    0   92  571    1   44\n",
      "  1369    1]]\n",
      "76.50% 확률로 찬티 댓글입니다.\n",
      "\n",
      "[[   0    0    0    0    0    0    0    0    0    0    0    0    0    0\n",
      "     0    0    0    0    0    0    0  163    8   37   11   99    7   80\n",
      "     1 1844]]\n",
      "70.81% 확률로 안티 댓글입니다.\n",
      "\n",
      "[[   0    0    0    0    0    0    0    0    0    0    0    0    0    0\n",
      "     0    0    0    0    0    0    0    0    0   36   49   37 2238  101\n",
      "  1505  437]]\n",
      "70.45% 확률로 안티 댓글입니다.\n",
      "\n"
     ]
    }
   ],
   "source": [
    "for i in sample:\n",
    "    sentiment_predict(i)"
   ]
  },
  {
   "cell_type": "code",
   "execution_count": 884,
   "metadata": {},
   "outputs": [
    {
     "name": "stdout",
     "output_type": "stream",
     "text": [
      "[[  0   0   0   0   0   0   0   0   0   0   0   0   0   0   0   0   0   0\n",
      "    0   0   0   0   0   0   0   0   4 408  16  47]]\n",
      "98.73% 확률로 안티 댓글입니다.\n",
      "\n"
     ]
    }
   ],
   "source": [
    "sentiment_predict('이거 완전 개잡주')"
   ]
  },
  {
   "cell_type": "code",
   "execution_count": 27,
   "metadata": {},
   "outputs": [],
   "source": [
    "sample = ['오늘 무슨 날이냐 왜이렇게 오르냐',\n",
    "         '개잡주 오늘 손절했습니다',\n",
    "         '이제 오를 일만 남았습니다 버티세요',\n",
    "         '이유라도 알자 왜 떨어지는 거임?',\n",
    "         '이번주 내로 전고점 달성하겠다',\n",
    "         '쓰레기 잡주 내가 들어온 게 잘못이지']"
   ]
  },
  {
   "cell_type": "code",
   "execution_count": 250,
   "metadata": {},
   "outputs": [],
   "source": [
    "df_new.to_csv('aa1.csv', encoding = 'utf-8-sig')"
   ]
  },
  {
   "cell_type": "markdown",
   "metadata": {},
   "source": [
    "# GRU학습"
   ]
  },
  {
   "cell_type": "code",
   "execution_count": 29,
   "metadata": {},
   "outputs": [],
   "source": [
    "from tensorflow.keras.layers import Embedding, Dense, GRU\n",
    "from tensorflow.keras.models import Sequential\n",
    "from tensorflow.keras.models import load_model\n",
    "from tensorflow.keras.callbacks import EarlyStopping, ModelCheckpoint"
   ]
  },
  {
   "cell_type": "code",
   "execution_count": 30,
   "metadata": {},
   "outputs": [],
   "source": [
    "model = Sequential()\n",
    "model.add(Embedding(vocab_size, 100))\n",
    "model.add(GRU(128))\n",
    "model.add(Dense(1, activation='sigmoid'))"
   ]
  },
  {
   "cell_type": "code",
   "execution_count": 31,
   "metadata": {},
   "outputs": [],
   "source": [
    "es = EarlyStopping(monitor='val_loss', mode='min', verbose=1, patience=4)\n",
    "mc = ModelCheckpoint('best_model.h5', monitor='val_acc', mode='max', verbose=1, save_best_only=True)"
   ]
  },
  {
   "cell_type": "code",
   "execution_count": 32,
   "metadata": {},
   "outputs": [
    {
     "name": "stdout",
     "output_type": "stream",
     "text": [
      "Epoch 1/20\n",
      "81/81 [==============================] - 5s 21ms/step - loss: 0.6781 - acc: 0.5607 - val_loss: 0.5607 - val_acc: 0.7300\n",
      "\n",
      "Epoch 00001: val_acc improved from -inf to 0.73001, saving model to best_model.h5\n",
      "Epoch 2/20\n",
      "81/81 [==============================] - 1s 16ms/step - loss: 0.3705 - acc: 0.8551 - val_loss: 0.5116 - val_acc: 0.7567\n",
      "\n",
      "Epoch 00002: val_acc improved from 0.73001 to 0.75666, saving model to best_model.h5\n",
      "Epoch 3/20\n",
      "81/81 [==============================] - 1s 14ms/step - loss: 0.1548 - acc: 0.9530 - val_loss: 0.6799 - val_acc: 0.7694\n",
      "\n",
      "Epoch 00003: val_acc improved from 0.75666 to 0.76941, saving model to best_model.h5\n",
      "Epoch 4/20\n",
      "81/81 [==============================] - 1s 13ms/step - loss: 0.0836 - acc: 0.9777 - val_loss: 0.6991 - val_acc: 0.7323\n",
      "\n",
      "Epoch 00004: val_acc did not improve from 0.76941\n",
      "Epoch 5/20\n",
      "81/81 [==============================] - 1s 13ms/step - loss: 0.1052 - acc: 0.9578 - val_loss: 0.8856 - val_acc: 0.7555\n",
      "\n",
      "Epoch 00005: val_acc did not improve from 0.76941\n",
      "Epoch 6/20\n",
      "81/81 [==============================] - 1s 13ms/step - loss: 0.0171 - acc: 0.9952 - val_loss: 1.0236 - val_acc: 0.7486\n",
      "\n",
      "Epoch 00006: val_acc did not improve from 0.76941\n",
      "Epoch 00006: early stopping\n"
     ]
    }
   ],
   "source": [
    "model.compile(optimizer='adam', loss='binary_crossentropy', metrics=['acc'])\n",
    "history = model.fit(x_train, y_train, epochs=20, callbacks=[es, mc], batch_size=16, validation_split=0.4)"
   ]
  },
  {
   "cell_type": "code",
   "execution_count": 33,
   "metadata": {},
   "outputs": [],
   "source": [
    "loaded_model = load_model('best_model.h5')\n",
    "#print(\"\\n 테스트 정확도: %.4f\" % (loaded_model.evaluate(X_test, y_test)[1]))"
   ]
  },
  {
   "cell_type": "code",
   "execution_count": 34,
   "metadata": {},
   "outputs": [],
   "source": [
    "def sentiment_predict(new_sentence):\n",
    "    print(new_sentence)\n",
    "    okt = Okt()\n",
    "    new_sentence = okt.morphs(new_sentence, stem=False) # 토큰화\n",
    "    new_sentence = [word for word in new_sentence if not word in stopwords] # 불용어 제거\n",
    "    encoded = tokenizer.texts_to_sequences([new_sentence]) # 정수 인코딩\n",
    "    pad_new = pad_sequences(encoded, maxlen = max_len) # 패딩\n",
    "    score = float(loaded_model.predict(pad_new)) # 예측\n",
    "    if(score > 0.5):\n",
    "        print(\"{:.2f}% 확률로 안티입니다.\\n\".format(score * 100))\n",
    "    else:\n",
    "        print(\"{:.2f}% 확률로 찬티입니다.\\n\".format((1 - score) * 100))"
   ]
  },
  {
   "cell_type": "code",
   "execution_count": 35,
   "metadata": {},
   "outputs": [],
   "source": [
    "sample = ['오늘 무슨 날이냐 왜이렇게 오르냐',\n",
    "         '개잡주 오늘 손절했습니다',\n",
    "         '이제 오를 일만 남았습니다 버티세요',\n",
    "         '이유라도 알자 왜 떨어지는 거임?',\n",
    "         '이번주 내로 전고점 달성하겠다',\n",
    "         '쓰레기 잡주 내가 들어온 게 잘못이지',\n",
    "         '거봐 내가 오른다고 했지 호재가 넘친다~~',\n",
    "         '연기금 그만 좀 팔아라',\n",
    "         '지금부터 차근차근 분할매수 하세요!',\n",
    "         '빠른 손절이 답이나 뭐하냐']"
   ]
  },
  {
   "cell_type": "code",
   "execution_count": 36,
   "metadata": {},
   "outputs": [
    {
     "name": "stdout",
     "output_type": "stream",
     "text": [
      "오늘 무슨 날이냐 왜이렇게 오르냐\n",
      "56.50% 확률로 찬티입니다.\n",
      "\n",
      "개잡주 오늘 손절했습니다\n",
      "93.83% 확률로 안티입니다.\n",
      "\n",
      "이제 오를 일만 남았습니다 버티세요\n",
      "92.44% 확률로 찬티입니다.\n",
      "\n",
      "이유라도 알자 왜 떨어지는 거임?\n",
      "97.37% 확률로 안티입니다.\n",
      "\n",
      "이번주 내로 전고점 달성하겠다\n",
      "97.24% 확률로 안티입니다.\n",
      "\n",
      "쓰레기 잡주 내가 들어온 게 잘못이지\n",
      "71.63% 확률로 찬티입니다.\n",
      "\n",
      "거봐 내가 오른다고 했지 호재가 넘친다~~\n",
      "99.86% 확률로 찬티입니다.\n",
      "\n",
      "연기금 그만 좀 팔아라\n",
      "99.50% 확률로 안티입니다.\n",
      "\n",
      "지금부터 차근차근 분할매수 하세요!\n",
      "99.20% 확률로 찬티입니다.\n",
      "\n",
      "빠른 손절이 답이나 뭐하냐\n",
      "96.79% 확률로 안티입니다.\n",
      "\n"
     ]
    }
   ],
   "source": [
    "for i in sample:\n",
    "    sentiment_predict(i)"
   ]
  },
  {
   "cell_type": "code",
   "execution_count": null,
   "metadata": {},
   "outputs": [],
   "source": []
  },
  {
   "cell_type": "code",
   "execution_count": null,
   "metadata": {},
   "outputs": [],
   "source": []
  },
  {
   "cell_type": "code",
   "execution_count": 897,
   "metadata": {},
   "outputs": [
    {
     "name": "stdout",
     "output_type": "stream",
     "text": [
      "오늘 무슨 날이냐 왜이렇게 오르냐\n",
      "94.57% 확률로 긍정 리뷰입니다.\n",
      "\n",
      "개잡주 오늘 손절했습니다\n",
      "81.64% 확률로 부정 리뷰입니다.\n",
      "\n",
      "이제 오를 일만 남았습니다 버티세요\n",
      "98.30% 확률로 긍정 리뷰입니다.\n",
      "\n",
      "이유라도 알자 왜 떨어지는 거임?\n",
      "87.42% 확률로 긍정 리뷰입니다.\n",
      "\n",
      "이번주 내로 전고점 달성하겠다\n",
      "61.57% 확률로 긍정 리뷰입니다.\n",
      "\n",
      "쓰레기 잡주 내가 들어온 게 잘못이지\n",
      "99.47% 확률로 부정 리뷰입니다.\n",
      "\n",
      "거봐 내가 오른다고 했지 호재가 넘친다~~\n",
      "97.51% 확률로 긍정 리뷰입니다.\n",
      "\n",
      "연기금 그만 좀 팔아라\n",
      "61.07% 확률로 부정 리뷰입니다.\n",
      "\n",
      "지금부터 차근차근 분할매수 하세요!\n",
      "98.35% 확률로 긍정 리뷰입니다.\n",
      "\n",
      "빠른 손절이 답이나 뭐하냐\n",
      "99.89% 확률로 부정 리뷰입니다.\n",
      "\n"
     ]
    }
   ],
   "source": [
    "# 가중치 새로 넣어서\n",
    "loaded_model = load_model('Weight/35.h5')\n",
    "for i in sample:\n",
    "    sentiment_predict(i)"
   ]
  },
  {
   "cell_type": "code",
   "execution_count": 901,
   "metadata": {},
   "outputs": [
    {
     "name": "stdout",
     "output_type": "stream",
     "text": [
      "이제 오를일만 남았다. 참 오래도록 바닥 다졌지...\n",
      "79.99% 확률로 긍정 리뷰입니다.\n",
      "\n"
     ]
    }
   ],
   "source": [
    "sentiment_predict('')"
   ]
  }
 ],
 "metadata": {
  "kernelspec": {
   "display_name": "Python 3 (ipykernel)",
   "language": "python",
   "name": "python3"
  },
  "language_info": {
   "codemirror_mode": {
    "name": "ipython",
    "version": 3
   },
   "file_extension": ".py",
   "mimetype": "text/x-python",
   "name": "python",
   "nbconvert_exporter": "python",
   "pygments_lexer": "ipython3",
   "version": "3.7.11"
  }
 },
 "nbformat": 4,
 "nbformat_minor": 4
}
